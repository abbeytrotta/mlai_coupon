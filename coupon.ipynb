{
 "cells": [
  {
   "cell_type": "markdown",
   "metadata": {
    "id": "CcUT6Fon_qRE"
   },
   "source": [
    "### Required Assignment 5.1: Will the Customer Accept the Coupon?\n",
    "\n",
    "**Context**\n",
    "\n",
    "Imagine driving through town and a coupon is delivered to your cell phone for a restaurant near where you are driving. Would you accept that coupon and take a short detour to the restaurant? Would you accept the coupon but use it on a subsequent trip? Would you ignore the coupon entirely? What if the coupon was for a bar instead of a restaurant? What about a coffee house? Would you accept a bar coupon with a minor passenger in the car? What about if it was just you and your partner in the car? Would weather impact the rate of acceptance? What about the time of day?\n",
    "\n",
    "Obviously, proximity to the business is a factor on whether the coupon is delivered to the driver or not, but what are the factors that determine whether a driver accepts the coupon once it is delivered to them? How would you determine whether a driver is likely to accept a coupon?\n",
    "\n",
    "**Overview**\n",
    "\n",
    "The goal of this project is to use what you know about visualizations and probability distributions to distinguish between customers who accepted a driving coupon versus those that did not.\n",
    "\n",
    "**Data**\n",
    "\n",
    "This data comes to us from the UCI Machine Learning repository and was collected via a survey on Amazon Mechanical Turk. The survey describes different driving scenarios including the destination, current time, weather, passenger, etc., and then ask the person whether he will accept the coupon if he is the driver. Answers that the user will drive there ‘right away’ or ‘later before the coupon expires’ are labeled as ‘Y = 1’ and answers ‘no, I do not want the coupon’ are labeled as ‘Y = 0’.  There are five different types of coupons -- less expensive restaurants (under \\$20), coffee houses, carry out & take away, bar, and more expensive restaurants (\\$20 - $50)."
   ]
  },
  {
   "cell_type": "markdown",
   "metadata": {
    "id": "1wORvMBJ_qRF"
   },
   "source": [
    "**Deliverables**\n",
    "\n",
    "Your final product should be a brief report that highlights the differences between customers who did and did not accept the coupons.  To explore the data you will utilize your knowledge of plotting, statistical summaries, and visualization using Python. You will publish your findings in a public facing github repository as your first portfolio piece.\n",
    "\n",
    "\n",
    "\n"
   ]
  },
  {
   "cell_type": "markdown",
   "metadata": {
    "id": "pG6_Ym6q_qRG"
   },
   "source": [
    "### Data Description\n",
    "Keep in mind that these values mentioned below are average values.\n",
    "\n",
    "The attributes of this data set include:\n",
    "1. User attributes\n",
    "    -  Gender: male, female\n",
    "    -  Age: below 21, 21 to 25, 26 to 30, etc.\n",
    "    -  Marital Status: single, married partner, unmarried partner, or widowed\n",
    "    -  Number of children: 0, 1, or more than 1\n",
    "    -  Education: high school, bachelors degree, associates degree, or graduate degree\n",
    "    -  Occupation: architecture & engineering, business & financial, etc.\n",
    "    -  Annual income: less than \\\\$12500, \\\\$12500 - \\\\$24999, \\\\$25000 - \\\\$37499, etc.\n",
    "    -  Number of times that he/she goes to a bar: 0, less than 1, 1 to 3, 4 to 8 or greater than 8\n",
    "    -  Number of times that he/she buys takeaway food: 0, less than 1, 1 to 3, 4 to 8 or greater\n",
    "    than 8\n",
    "    -  Number of times that he/she goes to a coffee house: 0, less than 1, 1 to 3, 4 to 8 or\n",
    "    greater than 8\n",
    "    -  Number of times that he/she eats at a restaurant with average expense less than \\\\$20 per\n",
    "    person: 0, less than 1, 1 to 3, 4 to 8 or greater than 8\n",
    "    -  Number of times that he/she goes to a bar: 0, less than 1, 1 to 3, 4 to 8 or greater than 8\n",
    "    \n",
    "\n",
    "2. Contextual attributes\n",
    "    - Driving destination: home, work, or no urgent destination\n",
    "    - Location of user, coupon and destination: we provide a map to show the geographical\n",
    "    location of the user, destination, and the venue, and we mark the distance between each\n",
    "    two places with time of driving. The user can see whether the venue is in the same\n",
    "    direction as the destination.\n",
    "    - Weather: sunny, rainy, or snowy\n",
    "    - Temperature: 30F, 55F, or 80F\n",
    "    - Time: 10AM, 2PM, or 6PM\n",
    "    - Passenger: alone, partner, kid(s), or friend(s)\n",
    "\n",
    "\n",
    "3. Coupon attributes\n",
    "    - time before it expires: 2 hours or one day"
   ]
  },
  {
   "cell_type": "code",
   "execution_count": 3,
   "metadata": {
    "id": "dzNoP3o__qRG"
   },
   "outputs": [],
   "source": [
    "import matplotlib.pyplot as plt\n",
    "import seaborn as sns\n",
    "import pandas as pd\n",
    "import numpy as np"
   ]
  },
  {
   "cell_type": "markdown",
   "metadata": {
    "id": "Ct8pI1uE_qRG"
   },
   "source": [
    "### Problems\n",
    "\n",
    "Use the prompts below to get started with your data analysis.  \n",
    "\n",
    "1. Read in the `coupons.csv` file.\n",
    "\n",
    "\n"
   ]
  },
  {
   "cell_type": "code",
   "execution_count": 6,
   "metadata": {
    "id": "X0vbffYg_qRH"
   },
   "outputs": [],
   "source": [
    "data = pd.read_csv('data/coupons.csv')"
   ]
  },
  {
   "cell_type": "code",
   "execution_count": 8,
   "metadata": {
    "id": "TXofQ_DF_qRH",
    "outputId": "2fc96a2c-1112-4b54-f24f-dbb9bc88abfb"
   },
   "outputs": [
    {
     "data": {
      "text/html": [
       "<div>\n",
       "<style scoped>\n",
       "    .dataframe tbody tr th:only-of-type {\n",
       "        vertical-align: middle;\n",
       "    }\n",
       "\n",
       "    .dataframe tbody tr th {\n",
       "        vertical-align: top;\n",
       "    }\n",
       "\n",
       "    .dataframe thead th {\n",
       "        text-align: right;\n",
       "    }\n",
       "</style>\n",
       "<table border=\"1\" class=\"dataframe\">\n",
       "  <thead>\n",
       "    <tr style=\"text-align: right;\">\n",
       "      <th></th>\n",
       "      <th>destination</th>\n",
       "      <th>passanger</th>\n",
       "      <th>weather</th>\n",
       "      <th>temperature</th>\n",
       "      <th>time</th>\n",
       "      <th>coupon</th>\n",
       "      <th>expiration</th>\n",
       "      <th>gender</th>\n",
       "      <th>age</th>\n",
       "      <th>maritalStatus</th>\n",
       "      <th>...</th>\n",
       "      <th>CoffeeHouse</th>\n",
       "      <th>CarryAway</th>\n",
       "      <th>RestaurantLessThan20</th>\n",
       "      <th>Restaurant20To50</th>\n",
       "      <th>toCoupon_GEQ5min</th>\n",
       "      <th>toCoupon_GEQ15min</th>\n",
       "      <th>toCoupon_GEQ25min</th>\n",
       "      <th>direction_same</th>\n",
       "      <th>direction_opp</th>\n",
       "      <th>Y</th>\n",
       "    </tr>\n",
       "  </thead>\n",
       "  <tbody>\n",
       "    <tr>\n",
       "      <th>0</th>\n",
       "      <td>No Urgent Place</td>\n",
       "      <td>Alone</td>\n",
       "      <td>Sunny</td>\n",
       "      <td>55</td>\n",
       "      <td>2PM</td>\n",
       "      <td>Restaurant(&lt;20)</td>\n",
       "      <td>1d</td>\n",
       "      <td>Female</td>\n",
       "      <td>21</td>\n",
       "      <td>Unmarried partner</td>\n",
       "      <td>...</td>\n",
       "      <td>never</td>\n",
       "      <td>NaN</td>\n",
       "      <td>4~8</td>\n",
       "      <td>1~3</td>\n",
       "      <td>1</td>\n",
       "      <td>0</td>\n",
       "      <td>0</td>\n",
       "      <td>0</td>\n",
       "      <td>1</td>\n",
       "      <td>1</td>\n",
       "    </tr>\n",
       "    <tr>\n",
       "      <th>1</th>\n",
       "      <td>No Urgent Place</td>\n",
       "      <td>Friend(s)</td>\n",
       "      <td>Sunny</td>\n",
       "      <td>80</td>\n",
       "      <td>10AM</td>\n",
       "      <td>Coffee House</td>\n",
       "      <td>2h</td>\n",
       "      <td>Female</td>\n",
       "      <td>21</td>\n",
       "      <td>Unmarried partner</td>\n",
       "      <td>...</td>\n",
       "      <td>never</td>\n",
       "      <td>NaN</td>\n",
       "      <td>4~8</td>\n",
       "      <td>1~3</td>\n",
       "      <td>1</td>\n",
       "      <td>0</td>\n",
       "      <td>0</td>\n",
       "      <td>0</td>\n",
       "      <td>1</td>\n",
       "      <td>0</td>\n",
       "    </tr>\n",
       "    <tr>\n",
       "      <th>2</th>\n",
       "      <td>No Urgent Place</td>\n",
       "      <td>Friend(s)</td>\n",
       "      <td>Sunny</td>\n",
       "      <td>80</td>\n",
       "      <td>10AM</td>\n",
       "      <td>Carry out &amp; Take away</td>\n",
       "      <td>2h</td>\n",
       "      <td>Female</td>\n",
       "      <td>21</td>\n",
       "      <td>Unmarried partner</td>\n",
       "      <td>...</td>\n",
       "      <td>never</td>\n",
       "      <td>NaN</td>\n",
       "      <td>4~8</td>\n",
       "      <td>1~3</td>\n",
       "      <td>1</td>\n",
       "      <td>1</td>\n",
       "      <td>0</td>\n",
       "      <td>0</td>\n",
       "      <td>1</td>\n",
       "      <td>1</td>\n",
       "    </tr>\n",
       "    <tr>\n",
       "      <th>3</th>\n",
       "      <td>No Urgent Place</td>\n",
       "      <td>Friend(s)</td>\n",
       "      <td>Sunny</td>\n",
       "      <td>80</td>\n",
       "      <td>2PM</td>\n",
       "      <td>Coffee House</td>\n",
       "      <td>2h</td>\n",
       "      <td>Female</td>\n",
       "      <td>21</td>\n",
       "      <td>Unmarried partner</td>\n",
       "      <td>...</td>\n",
       "      <td>never</td>\n",
       "      <td>NaN</td>\n",
       "      <td>4~8</td>\n",
       "      <td>1~3</td>\n",
       "      <td>1</td>\n",
       "      <td>1</td>\n",
       "      <td>0</td>\n",
       "      <td>0</td>\n",
       "      <td>1</td>\n",
       "      <td>0</td>\n",
       "    </tr>\n",
       "    <tr>\n",
       "      <th>4</th>\n",
       "      <td>No Urgent Place</td>\n",
       "      <td>Friend(s)</td>\n",
       "      <td>Sunny</td>\n",
       "      <td>80</td>\n",
       "      <td>2PM</td>\n",
       "      <td>Coffee House</td>\n",
       "      <td>1d</td>\n",
       "      <td>Female</td>\n",
       "      <td>21</td>\n",
       "      <td>Unmarried partner</td>\n",
       "      <td>...</td>\n",
       "      <td>never</td>\n",
       "      <td>NaN</td>\n",
       "      <td>4~8</td>\n",
       "      <td>1~3</td>\n",
       "      <td>1</td>\n",
       "      <td>1</td>\n",
       "      <td>0</td>\n",
       "      <td>0</td>\n",
       "      <td>1</td>\n",
       "      <td>0</td>\n",
       "    </tr>\n",
       "  </tbody>\n",
       "</table>\n",
       "<p>5 rows × 26 columns</p>\n",
       "</div>"
      ],
      "text/plain": [
       "       destination  passanger weather  temperature  time  \\\n",
       "0  No Urgent Place      Alone   Sunny           55   2PM   \n",
       "1  No Urgent Place  Friend(s)   Sunny           80  10AM   \n",
       "2  No Urgent Place  Friend(s)   Sunny           80  10AM   \n",
       "3  No Urgent Place  Friend(s)   Sunny           80   2PM   \n",
       "4  No Urgent Place  Friend(s)   Sunny           80   2PM   \n",
       "\n",
       "                  coupon expiration  gender age      maritalStatus  ...  \\\n",
       "0        Restaurant(<20)         1d  Female  21  Unmarried partner  ...   \n",
       "1           Coffee House         2h  Female  21  Unmarried partner  ...   \n",
       "2  Carry out & Take away         2h  Female  21  Unmarried partner  ...   \n",
       "3           Coffee House         2h  Female  21  Unmarried partner  ...   \n",
       "4           Coffee House         1d  Female  21  Unmarried partner  ...   \n",
       "\n",
       "   CoffeeHouse CarryAway RestaurantLessThan20 Restaurant20To50  \\\n",
       "0        never       NaN                  4~8              1~3   \n",
       "1        never       NaN                  4~8              1~3   \n",
       "2        never       NaN                  4~8              1~3   \n",
       "3        never       NaN                  4~8              1~3   \n",
       "4        never       NaN                  4~8              1~3   \n",
       "\n",
       "  toCoupon_GEQ5min toCoupon_GEQ15min toCoupon_GEQ25min direction_same  \\\n",
       "0                1                 0                 0              0   \n",
       "1                1                 0                 0              0   \n",
       "2                1                 1                 0              0   \n",
       "3                1                 1                 0              0   \n",
       "4                1                 1                 0              0   \n",
       "\n",
       "  direction_opp  Y  \n",
       "0             1  1  \n",
       "1             1  0  \n",
       "2             1  1  \n",
       "3             1  0  \n",
       "4             1  0  \n",
       "\n",
       "[5 rows x 26 columns]"
      ]
     },
     "execution_count": 8,
     "metadata": {},
     "output_type": "execute_result"
    }
   ],
   "source": [
    "data.head()"
   ]
  },
  {
   "cell_type": "markdown",
   "metadata": {
    "id": "GcDs78ZH_qRH"
   },
   "source": [
    "2. Investigate the dataset for missing or problematic data."
   ]
  },
  {
   "cell_type": "code",
   "execution_count": 11,
   "metadata": {
    "id": "6CwL6oWj_qRH"
   },
   "outputs": [
    {
     "name": "stdout",
     "output_type": "stream",
     "text": [
      "destination                 0\n",
      "direction_same              0\n",
      "toCoupon_GEQ25min           0\n",
      "toCoupon_GEQ15min           0\n",
      "toCoupon_GEQ5min            0\n",
      "income                      0\n",
      "direction_opp               0\n",
      "education                   0\n",
      "has_children                0\n",
      "occupation                  0\n",
      "age                         0\n",
      "gender                      0\n",
      "expiration                  0\n",
      "coupon                      0\n",
      "time                        0\n",
      "temperature                 0\n",
      "weather                     0\n",
      "passanger                   0\n",
      "maritalStatus               0\n",
      "Y                           0\n",
      "Bar                       107\n",
      "RestaurantLessThan20      130\n",
      "CarryAway                 151\n",
      "Restaurant20To50          189\n",
      "CoffeeHouse               217\n",
      "car                     12576\n",
      "dtype: int64\n"
     ]
    }
   ],
   "source": [
    "missing = data.isnull().sum().sort_values()\n",
    "print(missing)"
   ]
  },
  {
   "cell_type": "markdown",
   "metadata": {
    "id": "bSdVSpYB_qRH"
   },
   "source": [
    "3. Decide what to do about your missing data -- drop, replace, other..."
   ]
  },
  {
   "cell_type": "code",
   "execution_count": 14,
   "metadata": {
    "id": "tyvoAC5F_qRI"
   },
   "outputs": [],
   "source": [
    "data['Bar'] = data['Bar'].fillna(0)\n",
    "data['RestaurantLessThan20'] = data['RestaurantLessThan20'].fillna(0)\n",
    "data['CarryAway'] = data['CarryAway'].fillna(0)\n",
    "data['Restaurant20To50'] = data['Restaurant20To50'].fillna(0)\n",
    "data['CoffeeHouse'] = data['CoffeeHouse'].fillna(0)"
   ]
  },
  {
   "cell_type": "markdown",
   "metadata": {
    "id": "YE6oJbXd_qRI"
   },
   "source": [
    "4. What proportion of the total observations chose to accept the coupon?\n",
    "\n"
   ]
  },
  {
   "cell_type": "code",
   "execution_count": 17,
   "metadata": {
    "id": "86GGqBTv_qRI"
   },
   "outputs": [
    {
     "name": "stdout",
     "output_type": "stream",
     "text": [
      "0.5684326710816777\n"
     ]
    }
   ],
   "source": [
    "proportion_of_coupon_accepted = data['Y'].sum()/data.shape[0]\n",
    "print(proportion_of_coupon_accepted)"
   ]
  },
  {
   "cell_type": "markdown",
   "metadata": {
    "id": "vflz0DoE_qRI"
   },
   "source": [
    "5. Use a bar plot to visualize the `coupon` column."
   ]
  },
  {
   "cell_type": "code",
   "execution_count": 20,
   "metadata": {
    "id": "dHFh3E45_qRI"
   },
   "outputs": [
    {
     "data": {
      "image/png": "[encoded data removed]",
      "text/plain": [
       "<Figure size 640x480 with 1 Axes>"
      ]
     },
     "metadata": {},
     "output_type": "display_data"
    }
   ],
   "source": [
    "sns.countplot(x = 'coupon', data = data)\n",
    "plt.xticks(rotation=30)\n",
    "plt.show()"
   ]
  },
  {
   "cell_type": "markdown",
   "metadata": {
    "id": "Qw4lCyx2_qRI"
   },
   "source": [
    "6. Use a histogram to visualize the temperature column."
   ]
  },
  {
   "cell_type": "code",
   "execution_count": 23,
   "metadata": {
    "id": "Yg9Anv71_qRI"
   },
   "outputs": [
    {
     "data": {
      "text/plain": [
       "<Axes: xlabel='temperature', ylabel='Count'>"
      ]
     },
     "execution_count": 23,
     "metadata": {},
     "output_type": "execute_result"
    },
    {
     "data": {
      "image/png": "[encoded data removed]",
      "text/plain": [
       "<Figure size 640x480 with 1 Axes>"
      ]
     },
     "metadata": {},
     "output_type": "display_data"
    }
   ],
   "source": [
    "sns.histplot(data = data, x = 'temperature')"
   ]
  },
  {
   "cell_type": "markdown",
   "metadata": {
    "id": "FupfgeJk_qRJ"
   },
   "source": [
    "**Investigating the Bar Coupons**\n",
    "\n",
    "Now, we will lead you through an exploration of just the bar related coupons.  \n",
    "\n",
    "1. Create a new `DataFrame` that contains just the bar coupons.\n"
   ]
  },
  {
   "cell_type": "code",
   "execution_count": 30,
   "metadata": {
    "id": "tMBlWuGq_qRJ"
   },
   "outputs": [],
   "source": [
    "bar_coupon_df = data.loc[data['coupon'] == 'Bar']"
   ]
  },
  {
   "cell_type": "markdown",
   "metadata": {
    "id": "8ue6uCqf_qRJ"
   },
   "source": [
    "2. What proportion of bar coupons were accepted?\n"
   ]
  },
  {
   "cell_type": "code",
   "execution_count": 33,
   "metadata": {
    "id": "hSdte8Mi_qRK"
   },
   "outputs": [
    {
     "name": "stdout",
     "output_type": "stream",
     "text": [
      "0.41001487357461575\n"
     ]
    }
   ],
   "source": [
    "proportion_of_bar_coupon_accepted = bar_coupon_df['Y'].sum()/bar_coupon_df.shape[0]\n",
    "print(proportion_of_bar_coupon_accepted)"
   ]
  },
  {
   "cell_type": "markdown",
   "metadata": {
    "id": "85nA_iEi_qRK"
   },
   "source": [
    "3. Compare the acceptance rate between those who went to a bar 3 or fewer times a month to those who went more.\n"
   ]
  },
  {
   "cell_type": "code",
   "execution_count": 36,
   "metadata": {
    "id": "LBOrN-XM_qRK"
   },
   "outputs": [
    {
     "name": "stdout",
     "output_type": "stream",
     "text": [
      "Acceptance rate for those who went to a bar 3 or fewer times 0.37061769616026713\n",
      "Acceptance rate for those who went to a bar 4 or more times 0.7688442211055276\n"
     ]
    }
   ],
   "source": [
    "#print(bar_coupon_df['Bar'].value_counts())\n",
    "status_3_or_less = ['never', 'less1', '1~3', '0'] \n",
    "status_4_or_greater = ['4~8', 'gt8']\n",
    "three_or_fewer = bar_coupon_df.query('Bar in @status_3_or_less')\n",
    "acceptance_3_or_fewer = three_or_fewer['Y'].sum()/three_or_fewer.shape[0]\n",
    "four_or_greater = bar_coupon_df.query('Bar in @status_4_or_greater')\n",
    "acceptance_4_or_more = four_or_greater['Y'].sum()/four_or_greater.shape[0]\n",
    "print(\"Acceptance rate for those who went to a bar 3 or fewer times \" + str(acceptance_3_or_fewer))\n",
    "print(\"Acceptance rate for those who went to a bar 4 or more times \" + str(acceptance_4_or_more))"
   ]
  },
  {
   "cell_type": "markdown",
   "metadata": {
    "id": "RBgcQwH4_qRK"
   },
   "source": [
    "4. Compare the acceptance rate between drivers who go to a bar more than once a month and are over the age of 25 to the all others.  Is there a difference?\n"
   ]
  },
  {
   "cell_type": "code",
   "execution_count": 47,
   "metadata": {
    "id": "bf28bbeX_qRK"
   },
   "outputs": [
    {
     "name": "stdout",
     "output_type": "stream",
     "text": [
      "Acceptance rate for drivers who go to a bar more than once a month and are over the age of 25 0.6952380952380952\n",
      "Acceptance rate for other drivers 0.33500313087038197\n"
     ]
    }
   ],
   "source": [
    "#print(bar_coupon_df['age'].value_counts())\n",
    "statuses = ['4~8', 'gt8', '1~3']\n",
    "#bar_coupon_df['age'] = bar_coupon_df['age'].str.replace('below21', '20')\n",
    "#bar_coupon_df['age'] = bar_coupon_df['age'].str.replace('50plus', '51')\n",
    "#bar_coupon_df['age'] = bar_coupon_df['age'].astype(int)\n",
    "queried_df = bar_coupon_df.query('Bar in @statuses & age > 25')\n",
    "not_queried_df = bar_coupon_df.query('Bar not in @statuses | age <= 25')\n",
    "acceptance_queried = queried_df['Y'].sum()/queried_df.shape[0]\n",
    "acceptance_not_queried = not_queried_df['Y'].sum()/not_queried_df.shape[0]\n",
    "print(\"Acceptance rate for drivers who go to a bar more than once a month and are over the age of 25 \" + str(acceptance_queried))\n",
    "print(\"Acceptance rate for other drivers \" + str(acceptance_not_queried))"
   ]
  },
  {
   "cell_type": "markdown",
   "metadata": {
    "id": "S4RKT4PJ_qRK"
   },
   "source": [
    "5. Use the same process to compare the acceptance rate between drivers who go to bars more than once a month and had passengers that were not a kid and had occupations other than farming, fishing, or forestry.\n"
   ]
  },
  {
   "cell_type": "code",
   "execution_count": 50,
   "metadata": {
    "id": "sENaI2Tg_qRK"
   },
   "outputs": [
    {
     "name": "stdout",
     "output_type": "stream",
     "text": [
      "Acceptance rate for drivers who go to bars more than once a month and had passengers that were not a kid and had occupations other than farming, fishing, or forestry 0.717948717948718\n",
      "Acceptance rate for other drivers 0.3770581778265642\n"
     ]
    }
   ],
   "source": [
    "#print(bar_coupon_df['passanger'].value_counts())\n",
    "#print(bar_coupon_df['occupation'].value_counts())\n",
    "passenger = ['Friend(s)', 'Partner']\n",
    "query2_df = bar_coupon_df.query('Bar in @statuses & passanger in @passenger & occupation != \"Farming Fishing & Forestry\"')\n",
    "query2_not_df = bar_coupon_df.query('Bar not in @statuses | passanger not in @passenger | occupation == \"Farming Fishing & Forestry\"')\n",
    "acceptance_queried_2 = query2_df['Y'].sum()/query2_df.shape[0]\n",
    "acceptance_not_queried_2 = query2_not_df['Y'].sum()/query2_not_df.shape[0]\n",
    "print(\"Acceptance rate for drivers who go to bars more than once a month and had passengers that were not a kid and had occupations other than farming, fishing, or forestry \" + str(acceptance_queried_2))\n",
    "print(\"Acceptance rate for other drivers \" + str(acceptance_not_queried_2))"
   ]
  },
  {
   "cell_type": "markdown",
   "metadata": {
    "id": "n2LIUTil_qRK"
   },
   "source": [
    "6. Compare the acceptance rates between those drivers who:\n",
    "\n",
    "- go to bars more than once a month, had passengers that were not a kid, and were not widowed *OR*\n",
    "- go to bars more than once a month and are under the age of 30 *OR*\n",
    "- go to cheap restaurants more than 4 times a month and income is less than 50K.\n",
    "\n"
   ]
  },
  {
   "cell_type": "code",
   "execution_count": 53,
   "metadata": {
    "id": "aK_wEzx7_qRK"
   },
   "outputs": [
    {
     "name": "stdout",
     "output_type": "stream",
     "text": [
      "Acceptance rate for drivers that go to bars more than once a month, had passengers that were not a kid, and were not widowed 0.717948717948718\n",
      "Acceptance rate for drivers that go to bars more than once a month and are under the age of 30 0.7217391304347827\n",
      "Acceptance rate for go to cheap restaurants more than 4 times a month and income is less than 50K 0.6007020623080298\n"
     ]
    }
   ],
   "source": [
    "#print(bar_coupon_df['income'].value_counts())\n",
    "under_50k = ['Less than $12500', '$12500 - $24999', '$25000 - $37499', '$37500 - $49999']\n",
    "query3_df = bar_coupon_df.query('Bar in @statuses & passanger in @passenger & maritalStatus != \"Widowed\"')\n",
    "query4_df = bar_coupon_df.query('Bar in @statuses & age < 30')\n",
    "query5_df = data.query('RestaurantLessThan20 in @status_4_or_greater & income in @under_50k')\n",
    "acceptance_q3 = query3_df['Y'].sum()/query3_df.shape[0]\n",
    "acceptance_q4 = query4_df['Y'].sum()/query4_df.shape[0]\n",
    "acceptance_q5 = query5_df['Y'].sum()/query5_df.shape[0]\n",
    "print(\"Acceptance rate for drivers that go to bars more than once a month, had passengers that were not a kid, and were not widowed \" + str(acceptance_q3))\n",
    "print(\"Acceptance rate for drivers that go to bars more than once a month and are under the age of 30 \" + str(acceptance_q4))\n",
    "print(\"Acceptance rate for go to cheap restaurants more than 4 times a month and income is less than 50K \" + str(acceptance_q5))"
   ]
  },
  {
   "cell_type": "markdown",
   "metadata": {
    "id": "v3fL3QkO_qRK"
   },
   "source": [
    "7.  Based on these observations, what do you hypothesize about drivers who accepted the bar coupons?"
   ]
  },
  {
   "cell_type": "markdown",
   "metadata": {
    "id": "Y48naDFh_qRL"
   },
   "source": [
    "The highest bar coupon acceptance rate was for drivers who visit a bar 4 or more times per month. Although the acceptance rate for those who visited a bar more than once a month had a fairly high acceptance rate as well and it was not highly impacted by the type of passenger, driver age or occupation."
   ]
  },
  {
   "cell_type": "markdown",
   "metadata": {
    "id": "r4Hu1zOb_qRL"
   },
   "source": [
    "### Independent Investigation\n",
    "\n",
    "Using the bar coupon example as motivation, you are to explore one of the other coupon groups and try to determine the characteristics of passengers who accept the coupons.  "
   ]
  },
  {
   "cell_type": "code",
   "execution_count": 58,
   "metadata": {
    "id": "0c71cQhu_qRL"
   },
   "outputs": [],
   "source": [
    "ch_coupon_df = data.loc[data['coupon'] == 'Coffee House']"
   ]
  },
  {
   "cell_type": "code",
   "execution_count": 60,
   "metadata": {
    "id": "QEsBkvIN_qRL"
   },
   "outputs": [
    {
     "name": "stdout",
     "output_type": "stream",
     "text": [
      "Acceptance rate for drivers with income under 50k 0.5225140712945591\n",
      "Acceptance rate for drivers with income 50k or over 0.47263948497854075\n"
     ]
    }
   ],
   "source": [
    "ch_q_under50k = ch_coupon_df.query('income in @under_50k')\n",
    "ch_q_over50k = ch_coupon_df.query('income not in @under_50k')\n",
    "acceptance_under50k = ch_q_under50k['Y'].sum()/ch_q_under50k.shape[0]\n",
    "acceptance_over50k = ch_q_over50k['Y'].sum()/ch_q_over50k.shape[0]\n",
    "print(\"Acceptance rate for drivers with income under 50k \" + str(acceptance_under50k))\n",
    "print(\"Acceptance rate for drivers with income 50k or over \" + str(acceptance_over50k))"
   ]
  },
  {
   "cell_type": "code",
   "execution_count": 76,
   "metadata": {
    "id": "fTC2WGE3_qRL"
   },
   "outputs": [
    {
     "data": {
      "text/plain": [
       "<Axes: xlabel='CoffeeHouse', ylabel='Y'>"
      ]
     },
     "execution_count": 76,
     "metadata": {},
     "output_type": "execute_result"
    },
    {
     "data": {
      "image/png": "[encoded data removed]",
      "text/plain": [
       "<Figure size 640x480 with 1 Axes>"
      ]
     },
     "metadata": {},
     "output_type": "display_data"
    }
   ],
   "source": [
    "sns.barplot(x = 'CoffeeHouse', y = 'Y', data = ch_coupon_df, order = ['never', '0', 'less1', '1~3', '4~8', 'gt8'])"
   ]
  },
  {
   "cell_type": "code",
   "execution_count": 64,
   "metadata": {
    "id": "RrqUWn7d_qRL"
   },
   "outputs": [
    {
     "name": "stdout",
     "output_type": "stream",
     "text": [
      "Acceptance rate for single drivers 0.5161290322580645\n",
      "Acceptance rate for drivers not single 0.4885527391659853\n"
     ]
    }
   ],
   "source": [
    "#print(ch_coupon_df['maritalStatus'].value_counts())\n",
    "ch_q_single = ch_coupon_df.query('maritalStatus == \"Single\"')\n",
    "ch_q_not_single = ch_coupon_df.query('maritalStatus != \"Single\"')\n",
    "acceptance_single = ch_q_single['Y'].sum()/ch_q_single.shape[0]\n",
    "acceptance_not_single = ch_q_not_single['Y'].sum()/ch_q_not_single.shape[0]\n",
    "print(\"Acceptance rate for single drivers \" + str(acceptance_single))\n",
    "print(\"Acceptance rate for drivers not single \" + str(acceptance_not_single))"
   ]
  },
  {
   "cell_type": "code",
   "execution_count": 66,
   "metadata": {
    "id": "_oykf8YP_qRL"
   },
   "outputs": [
    {
     "name": "stdout",
     "output_type": "stream",
     "text": [
      "Acceptance rate for drivers who visit a Coffee Shop 8 or more times 0.6578947368421053\n",
      "Acceptance rate for drivers who visit a Coffee Shop 4 or more times 0.675\n",
      "Acceptance rate for drivers who visit a Coffee Shop 3 or less times 0.44940867279894875\n"
     ]
    }
   ],
   "source": [
    "ch_q_8_plus = ch_coupon_df.query('CoffeeHouse == \"gt8\"')\n",
    "ch_q_4_plus = ch_coupon_df.query('CoffeeHouse in @status_4_or_greater')\n",
    "ch_q_3_or_less = ch_coupon_df.query('CoffeeHouse in @status_3_or_less')\n",
    "acceptance_8_plus = ch_q_8_plus['Y'].sum()/ch_q_8_plus.shape[0]\n",
    "acceptance_4_plus = ch_q_4_plus['Y'].sum()/ch_q_4_plus.shape[0]\n",
    "acceptance_3_or_less = ch_q_3_or_less['Y'].sum()/ch_q_3_or_less.shape[0]\n",
    "print(\"Acceptance rate for drivers who visit a Coffee Shop 8 or more times \" + str(acceptance_8_plus))\n",
    "print(\"Acceptance rate for drivers who visit a Coffee Shop 4 or more times \" + str(acceptance_4_plus))\n",
    "print(\"Acceptance rate for drivers who visit a Coffee Shop 3 or less times \" + str(acceptance_3_or_less))"
   ]
  },
  {
   "cell_type": "code",
   "execution_count": 68,
   "metadata": {},
   "outputs": [
    {
     "name": "stdout",
     "output_type": "stream",
     "text": [
      "Acceptance rate for male drivers 0.506426735218509\n",
      "Acceptance rate for female drivers 0.492442710872745\n"
     ]
    }
   ],
   "source": [
    "#print(ch_coupon_df['gender'].value_counts())\n",
    "ch_q_male = ch_coupon_df.query('gender == \"Male\"')\n",
    "ch_q_female = ch_coupon_df.query('gender == \"Female\"')\n",
    "acceptance_male = ch_q_male['Y'].sum()/ch_q_male.shape[0]\n",
    "acceptance_female = ch_q_female['Y'].sum()/ch_q_female.shape[0]\n",
    "print(\"Acceptance rate for male drivers \" + str(acceptance_male))\n",
    "print(\"Acceptance rate for female drivers \" + str(acceptance_female))"
   ]
  },
  {
   "cell_type": "code",
   "execution_count": 70,
   "metadata": {},
   "outputs": [
    {
     "name": "stdout",
     "output_type": "stream",
     "text": [
      "destination\n",
      "No Urgent Place    2155\n",
      "Home                928\n",
      "Work                913\n",
      "Name: count, dtype: int64\n"
     ]
    }
   ],
   "source": [
    "print(ch_coupon_df['destination'].value_counts())"
   ]
  },
  {
   "cell_type": "code",
   "execution_count": 74,
   "metadata": {},
   "outputs": [
    {
     "name": "stdout",
     "output_type": "stream",
     "text": [
      "Acceptance rate for drivers heading to work 0.4457831325301205\n",
      "Acceptance rate for drivers heading home 0.3620689655172414\n",
      "Acceptance rate for drivers heading to other destinations 0.5809744779582366\n"
     ]
    }
   ],
   "source": [
    "ch_q_work = ch_coupon_df.query('destination == \"Work\"')\n",
    "ch_q_home = ch_coupon_df.query('destination == \"Home\"')\n",
    "ch_q_other = ch_coupon_df.query('destination == \"No Urgent Place\"')\n",
    "acceptance_work = ch_q_work['Y'].sum()/ch_q_work.shape[0]\n",
    "acceptance_home = ch_q_home['Y'].sum()/ch_q_home.shape[0]\n",
    "acceptance_other = ch_q_other['Y'].sum()/ch_q_other.shape[0]\n",
    "print(\"Acceptance rate for drivers heading to work \" + str(acceptance_work))\n",
    "print(\"Acceptance rate for drivers heading home \" + str(acceptance_home))\n",
    "print(\"Acceptance rate for drivers heading to other destinations \" + str(acceptance_other))"
   ]
  },
  {
   "cell_type": "code",
   "execution_count": 79,
   "metadata": {},
   "outputs": [
    {
     "name": "stdout",
     "output_type": "stream",
     "text": [
      "Acceptance rate for coffee houses in the same direction as destination 0.5306666666666666\n",
      "Acceptance rate for coffee houses in the opposite direction as destination 0.49199014171287736\n"
     ]
    }
   ],
   "source": [
    "ch_q_dir_same = ch_coupon_df.query('direction_same == 1')\n",
    "ch_q_dir_opp = ch_coupon_df.query('direction_opp == 1')\n",
    "acceptance_dir_same = ch_q_dir_same['Y'].sum()/ch_q_dir_same.shape[0]\n",
    "acceptance_dir_opp = ch_q_dir_opp['Y'].sum()/ch_q_dir_opp.shape[0]\n",
    "print(\"Acceptance rate for coffee houses in the same direction as destination \" + str(acceptance_dir_same))\n",
    "print(\"Acceptance rate for coffee houses in the opposite direction as destination \" + str(acceptance_dir_opp))"
   ]
  },
  {
   "cell_type": "code",
   "execution_count": 89,
   "metadata": {},
   "outputs": [
    {
     "name": "stdout",
     "output_type": "stream",
     "text": [
      "0.7379032258064516\n"
     ]
    }
   ],
   "source": [
    "combined_query = ch_coupon_df.query('CoffeeHouse in @status_4_or_greater & destination == \"No Urgent Place\" & income in @under_50k')\n",
    "acceptance_combined = combined_query['Y'].sum()/combined_query.shape[0]\n",
    "print(str(acceptance_combined))"
   ]
  },
  {
   "cell_type": "markdown",
   "metadata": {},
   "source": [
    "### Findings\n",
    "The greatest individual factor found that impacts the coffee shop coupon acceptance rate was whether a driver had visited a coffee shop 4 or more times. These individuals had a coupon acceptance rate of 67.5%. Combining this population with the drivers heading some place other than home or work, and having an income of under 50k per year brought the acceptance rate up to 73.7%\n",
    "\n",
    "the greatest individual factor found that impacts the bar coupon acceptance rate was whether a driver had been to a bar 4 or more times. These individuals had a coupon acceptance rate of 76.9%\n",
    "\n",
    "### Actionable Items\n",
    "The factors that led to the highest coffee shop coupon acceptance rates were:\n",
    "- The driver visited a coffee shop 4 or more times: 67.5%\n",
    "- The driver is heading someplace other than work or home: 58.1%\n",
    "- The driver is heading in the same direction as the coffee shop: 53.1%\n",
    "- The driver has an income of under 50k: 52.3%\n",
    "\n",
    "The factor that led to the highest bar coupon acceptance rate was:\n",
    "- The driver visited a bar 4 or more times: 76.9%\n",
    "\n",
    "### Recommendations\n",
    "The greatest success rate in coupon usage will come from drivers who fall into one or more of the categories listed under actionable items."
   ]
  },
  {
   "cell_type": "code",
   "execution_count": null,
   "metadata": {},
   "outputs": [],
   "source": []
  }
 ],
 "metadata": {
  "colab": {
   "provenance": []
  },
  "kernelspec": {
   "display_name": "Python 3 (ipykernel)",
   "language": "python",
   "name": "python3"
  },
  "language_info": {
   "codemirror_mode": {
    "name": "ipython",
    "version": 3
   },
   "file_extension": ".py",
   "mimetype": "text/x-python",
   "name": "python",
   "nbconvert_exporter": "python",
   "pygments_lexer": "ipython3",
   "version": "3.12.4"
  }
 },
 "nbformat": 4,
 "nbformat_minor": 4
}
